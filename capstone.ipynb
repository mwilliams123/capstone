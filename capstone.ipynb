{
 "cells": [
  {
   "cell_type": "code",
   "execution_count": 0,
   "metadata": {
    "colab": {},
    "colab_type": "code",
    "id": "jEdOulfHtzaD"
   },
   "outputs": [],
   "source": [
    "from twython import Twython\n",
    "\n",
    "# Set up ability to tweet\n",
    "# Consumer key and access token are provided by registering an application with Twitter.\n",
    "consumer_key        = ''\n",
    "consumer_secret     = ''\n",
    "access_token        = ''\n",
    "access_token_secret = ''\n",
    "\n",
    "twitter = Twython(\n",
    "    consumer_key,\n",
    "    consumer_secret,\n",
    "    access_token,\n",
    "    access_token_secret\n",
    ")\n"
   ]
  },
  {
   "cell_type": "markdown",
   "metadata": {
    "colab_type": "text",
    "id": "oC7fWHxLsBUG"
   },
   "source": [
    "# Detect Game Start"
   ]
  },
  {
   "cell_type": "code",
   "execution_count": 0,
   "metadata": {
    "colab": {},
    "colab_type": "code",
    "id": "0sl6Cdj8wXZL"
   },
   "outputs": [],
   "source": [
    "import datetime \n",
    "\n",
    "# get current date\n",
    "today = datetime.date.today().strftime(\"%Y-%m-%d\")\n",
    "tommorrow = ( datetime.date.today() + datetime.timedelta(days=2)).strftime(\"%Y-%m-%d\")\n"
   ]
  },
  {
   "cell_type": "markdown",
   "metadata": {
    "colab_type": "text",
    "id": "3JsXXu7Oszhs"
   },
   "source": [
    "To detect a game start, we use a moving threshold based on the number of tweets mentioning 'nfl' that also include a word related to the beginning of a game, such as 'kickoff'."
   ]
  },
  {
   "cell_type": "code",
   "execution_count": 4,
   "metadata": {
    "colab": {
     "base_uri": "https://localhost:8080/",
     "height": 51
    },
    "colab_type": "code",
    "id": "GD1sGO7bdXsJ",
    "outputId": "8067ed9c-813c-49d6-9918-f5f7e40b6b3b"
   },
   "outputs": [
    {
     "name": "stdout",
     "output_type": "stream",
     "text": [
      "game detected\n",
      "2020-01-13 00:06:01.379993\n"
     ]
    }
   ],
   "source": [
    "import numpy as np\n",
    "import time\n",
    "from sklearn.feature_extraction.text import CountVectorizer\n",
    "from Tweet import Tweet\n",
    "from TweetCriteria import TweetCriteria\n",
    "from TweetManager import TweetManager \n",
    "\n",
    "\n",
    "# words related to game start\n",
    "game_start_words = ['started', 'starts', 'begins', 'begin', 'began', 'begun', 'beginning', 'kickoff']\n",
    "vectorizer = CountVectorizer()\n",
    "vectorizer.fit(game_start_words)\n",
    "\n",
    "tweet_volume = [] # stores number of relevant tweets / minute\n",
    "while(True):\n",
    "    ti = datetime.datetime.now()\n",
    "    # get recent tweets mentioning nfl\n",
    "    tweetCriteria = TweetCriteria().setQuerySearch('nfl').setSince(today).setUntil(tommorrow).setMaxTweets(1200)\n",
    "    tweets = TweetManager().getTweets(tweetCriteria)\n",
    "\n",
    "    # find tweets from the last minute\n",
    "    cur_tweets = []\n",
    "    for t in tweets:\n",
    "        if t.date + datetime.timedelta(minutes=1)  > ti:\n",
    "            cur_tweets.append(t.text)\n",
    "    \n",
    "    # count tweets that mention a start word\n",
    "    counts = np.sum(vectorizer.transform(cur_tweets).toarray())\n",
    "    tweet_volume.append(counts)\n",
    "    # calculate threshold\n",
    "    m = np.mean(tweet_volume)\n",
    "    s = np.sqrt(np.var(tweet_volume))\n",
    "    thresh = m + 2*s \n",
    "    if counts > thresh:\n",
    "        # game starts when tweet volume exceeds threshold\n",
    "        print(\"game detected\")\n",
    "        print(ti)\n",
    "        break\n",
    "\n",
    "    # sleep until next minute\n",
    "    sec = (ti + datetime.timedelta(minutes=1) - datetime.datetime.now()).total_seconds()\n",
    "    if sec > 0:\n",
    "        time.sleep(sec)\n",
    "    \n",
    "    \n",
    "\n",
    "\n",
    "\n",
    "\n"
   ]
  },
  {
   "cell_type": "markdown",
   "metadata": {
    "colab_type": "text",
    "id": "oSX6J45PsQXo"
   },
   "source": [
    "# Identify Game Hashtags"
   ]
  },
  {
   "cell_type": "markdown",
   "metadata": {
    "colab_type": "text",
    "id": "oDS6cFDnzh3G"
   },
   "source": [
    "## Identify Teams"
   ]
  },
  {
   "cell_type": "markdown",
   "metadata": {
    "colab_type": "text",
    "id": "hUh6Ba2m3c11"
   },
   "source": [
    "We look at the top mentions of nfl team names among the lastest tweets to identify the teams in the game"
   ]
  },
  {
   "cell_type": "code",
   "execution_count": 22,
   "metadata": {
    "colab": {
     "base_uri": "https://localhost:8080/",
     "height": 34
    },
    "colab_type": "code",
    "id": "Ys0R-SDuwybY",
    "outputId": "ea1f8034-cbae-4a5f-f5e4-b5b077627281"
   },
   "outputs": [
    {
     "name": "stdout",
     "output_type": "stream",
     "text": [
      "Seahawks vs Packers starting now!\n"
     ]
    }
   ],
   "source": [
    "# identify teams\n",
    "\n",
    "latest_tweets = tweets\n",
    "\n",
    "team_names = ['patriots', 'rams', 'chargers', 'broncos', 'cowboys', \n",
    "              '49ers', 'giants', 'eagles', 'bears', 'colts', 'jets',\n",
    "             'steelers', 'ravens', 'panthers', 'vikings', 'bills', \n",
    "             'packers', 'saints', 'browns', 'falcons', 'cardinals',\n",
    "             'chiefs', 'buccaneers', 'redskins', 'texans', 'seahawks',\n",
    "             'dolphins', 'bengals', 'jaguars', 'titans', 'raiders', 'lions']\n",
    "\n",
    "# find team name mentions\n",
    "name_vectorizer = CountVectorizer()\n",
    "name_vectorizer.fit(team_names)\n",
    "names = name_vectorizer.get_feature_names()\n",
    "\n",
    "# extract text of tweets\n",
    "latest_text = []\n",
    "num_tweets = len(latest_tweets)\n",
    "for i in range(num_tweets):\n",
    "    if np.sum(vectorizer.transform([latest_tweets[i].text])) != 0:\n",
    "      latest_text.append(latest_tweets[i].text)\n",
    "\n",
    " # count team name mentions\n",
    "counts = name_vectorizer.transform(latest_text)\n",
    "count_by_team = np.sum(counts.toarray(), axis=0)\n",
    "top2 = np.argsort(count_by_team)[::-1][0:2] # top teams\n",
    "\n",
    "# Find top team names\n",
    "team_A = names[top2[0]]\n",
    "team_B = names[top2[1]]\n",
    "\n",
    "message = team_A.capitalize() + \" vs \" + team_B.capitalize() + \" starting now!\"\n",
    "\n",
    "print(message)\n"
   ]
  },
  {
   "cell_type": "markdown",
   "metadata": {
    "colab_type": "text",
    "id": "PayEDQWMzznp"
   },
   "source": [
    "## Get Hashtags"
   ]
  },
  {
   "cell_type": "markdown",
   "metadata": {
    "colab_type": "text",
    "id": "3iG0jkT23-ro"
   },
   "source": [
    "We get the top 20 hastags used in mentions of 'nfl', and then count team name mentions for each hashtag to determine if each hashtag is associated with a certain team, or is a neutral game hashtag"
   ]
  },
  {
   "cell_type": "code",
   "execution_count": 0,
   "metadata": {
    "colab": {},
    "colab_type": "code",
    "id": "h5eG2NyTx0k2"
   },
   "outputs": [],
   "source": [
    "# returns the top k hashtags in a set of tweets\n",
    "# and a dictionary of tweets organized by hashtag  \n",
    "def getTopHashtags(tweets, k):\n",
    "    hashtags = {}\n",
    "    idx = 0\n",
    "    for tweet in tweets:\n",
    "        if tweet.hashtags == \"\":\n",
    "            continue\n",
    "        htgs = set(tweet.hashtags.split(\" \"))\n",
    "        for htg in htgs:\n",
    "            htg = htg.lower()\n",
    "            if htg in hashtags:\n",
    "                hashtags[htg] += 1\n",
    "            else:\n",
    "                hashtags[htg] = 1\n",
    "        idx += 1\n",
    "    \n",
    "    sorted_hashtags = sorted(hashtags, key=hashtags.get, reverse=True)\n",
    "    topk = sorted_hashtags[0:k]\n",
    "    \n",
    "    return topk"
   ]
  },
  {
   "cell_type": "code",
   "execution_count": 0,
   "metadata": {
    "colab": {},
    "colab_type": "code",
    "id": "i2xMriO1ANR5"
   },
   "outputs": [],
   "source": [
    "# gets tweets mentioning team A\n",
    "tweetCriteria = TweetCriteria().setQuerySearch(team_A).setSince(today).setUntil(tommorrow).setMaxTweets(1000)\n",
    "tweetsA = TweetManager.getTweets(tweetCriteria)\n",
    "\n",
    "# get tweets mentioning team B\n",
    "tweetCriteria = TweetCriteria().setQuerySearch(team_B).setSince(today).setUntil(tommorrow).setMaxTweets(1000)\n",
    "tweetsB = TweetManager.getTweets(tweetCriteria)"
   ]
  },
  {
   "cell_type": "code",
   "execution_count": 17,
   "metadata": {
    "colab": {
     "base_uri": "https://localhost:8080/",
     "height": 170
    },
    "colab_type": "code",
    "id": "S6A8P35px2BS",
    "outputId": "ffd06161-e5b4-4bb9-a3ed-1ea95444181b"
   },
   "outputs": [
    {
     "name": "stdout",
     "output_type": "stream",
     "text": [
      "\n",
      "Team A:\n",
      "['#packers', '#gopackgo']\n",
      "\n",
      "Team B:\n",
      "['#seahawks']\n",
      "\n",
      "Game:\n",
      "['#seavsgb', '#nflplayoffs']\n"
     ]
    }
   ],
   "source": [
    "\n",
    "# get most popular hashtags \n",
    "k = 20\n",
    "topk = getTopHashtags(latest_tweets, k)\n",
    "\n",
    "htg_by_team = {} # counts of team mentions per hastag\n",
    "for htg in topk:\n",
    "    htg_by_team[htg] = [0,0]\n",
    "# count mentions of team A in each hashtag\n",
    "for t in tweetsA:\n",
    "    if t.hashtags == \"\":\n",
    "        continue\n",
    "    htgs = set(t.hashtags.split(\" \"))\n",
    "    for htg in htgs:\n",
    "        htg = htg.lower()\n",
    "        if htg in htg_by_team:\n",
    "            htg_by_team[htg][0] += 1\n",
    "# count mentions of team B in each hashtag\n",
    "for t in tweetsB:\n",
    "    if t.hashtags == \"\":\n",
    "        continue\n",
    "    htgs = set(t.hashtags.split(\" \"))\n",
    "    for htg in htgs:\n",
    "        htg = htg.lower()\n",
    "        if htg in htg_by_team:\n",
    "            htg_by_team[htg][1] += 1\n",
    "\n",
    "# calculate Team A/Team B usage split for each hastag\n",
    "#  to find team and neutral hashtags\n",
    "teamAhtgs = {}\n",
    "teamBhtgs = {}\n",
    "neutralhtgs = {}\n",
    "for h in htg_by_team:\n",
    "    total = htg_by_team[h][0] + htg_by_team[h][1]\n",
    "    if total == 0:\n",
    "        continue\n",
    "    frac = htg_by_team[h][0] / (1.0 * total) # % team mentions are team A\n",
    "    # identify team hashtags using cutoff of 70% for % of mentions\n",
    "    if frac > 0.7:\n",
    "        teamAhtgs[h] = total\n",
    "    elif frac < 0.3:\n",
    "        teamBhtgs[h] = total\n",
    "    else:\n",
    "        neutralhtgs[h] = total\n",
    "\n",
    "def dict_sort(d):\n",
    "    s = sorted(d, key=d.get, reverse=True)\n",
    "    return s\n",
    "\n",
    "# get top hashtags\n",
    "sorted_A = dict_sort(teamAhtgs)\n",
    "sorted_B = dict_sort(teamBhtgs)\n",
    "sorted_G = dict_sort(neutralhtgs)\n",
    "\n",
    "htA = sorted_A[0:2]\n",
    "htB = sorted_B[0:2]\n",
    "htG = sorted_G[0:2]\n",
    "    \n",
    "print(\"\\nTeam A:\")\n",
    "print(htA)\n",
    "print(\"\\nTeam B:\")\n",
    "print(htB)\n",
    "print(\"\\nGame:\")\n",
    "print(htG)"
   ]
  },
  {
   "cell_type": "markdown",
   "metadata": {
    "colab_type": "text",
    "id": "6lpALR2-yBw2"
   },
   "source": [
    "# Generate Tweet Summary"
   ]
  },
  {
   "cell_type": "markdown",
   "metadata": {
    "colab_type": "text",
    "id": "9EBrl_-aydl_"
   },
   "source": [
    "## Model Definition"
   ]
  },
  {
   "cell_type": "markdown",
   "metadata": {
    "colab_type": "text",
    "id": "Bub8itw84_-n"
   },
   "source": [
    "The model we use is an RNN"
   ]
  },
  {
   "cell_type": "code",
   "execution_count": 9,
   "metadata": {
    "colab": {
     "base_uri": "https://localhost:8080/",
     "height": 63
    },
    "colab_type": "code",
    "id": "suhYTsXNdXuq",
    "outputId": "2a341e5b-0adb-45d5-ae14-af804fc6c2c2"
   },
   "outputs": [
    {
     "data": {
      "text/html": [
       "<p style=\"color: red;\">\n",
       "The default version of TensorFlow in Colab will soon switch to TensorFlow 2.x.<br>\n",
       "We recommend you <a href=\"https://www.tensorflow.org/guide/migrate\" target=\"_blank\">upgrade</a> now \n",
       "or ensure your notebook will continue to use TensorFlow 1.x via the <code>%tensorflow_version 1.x</code> magic:\n",
       "<a href=\"https://colab.research.google.com/notebooks/tensorflow_version.ipynb\" target=\"_blank\">more info</a>.</p>\n"
      ],
      "text/plain": [
       "<IPython.core.display.HTML object>"
      ]
     },
     "metadata": {
      "tags": []
     },
     "output_type": "display_data"
    }
   ],
   "source": [
    "# Generate tweets about the events\n",
    "import os\n",
    "os.environ['TF_CPP_MIN_LOG_LEVEL'] = '2' \n",
    "\n",
    "from __future__ import absolute_import, division, print_function\n",
    "import tensorflow as tf\n",
    "import time\n",
    "import functools\n",
    "\n",
    "tf.get_logger().setLevel('WARNING')\n",
    "tf.logging.set_verbosity(tf.logging.ERROR) \n",
    "tf.compat.v1.logging.set_verbosity(tf.compat.v1.logging.ERROR) \n",
    "\n",
    "seq_length = 50\n",
    "\n",
    "tf.enable_eager_execution()\n",
    "\n",
    "def split_input_target(chunk):\n",
    "    input_text = chunk[:-1]\n",
    "    target_text = chunk[1:]\n",
    "    return input_text, target_text\n",
    "\n",
    "rnn = functools.partial(tf.keras.layers.GRU, recurrent_activation='sigmoid')\n",
    "def build_model(num_chars, batch_size=32):\n",
    "    model = tf.keras.Sequential([\n",
    "        tf.keras.layers.Embedding(num_chars, 256, \n",
    "                              batch_input_shape=[batch_size, None]),\n",
    "        rnn(1024,\n",
    "            return_sequences=True, \n",
    "            recurrent_initializer='glorot_uniform',\n",
    "            stateful=True),\n",
    "        tf.keras.layers.Dense(num_chars)\n",
    "      ])\n",
    "    return model\n",
    "\n",
    "def loss(labels, logits):\n",
    "    return tf.keras.losses.sparse_categorical_crossentropy(labels, logits, from_logits=True)\n"
   ]
  },
  {
   "cell_type": "code",
   "execution_count": 0,
   "metadata": {
    "colab": {},
    "colab_type": "code",
    "id": "7yC0Am5YdXuu"
   },
   "outputs": [],
   "source": [
    "def generate_text(model, start_string, char2idx, temperature = 1.0, num_generate = 1000):\n",
    "    idx2char = np.array(chars)\n",
    "    input_eval = [char2idx[s] for s in start_string]\n",
    "    input_eval = tf.expand_dims(input_eval, 0)\n",
    "    text_generated = []\n",
    "    model.reset_states()\n",
    "    for i in range(num_generate):\n",
    "        predictions = model(input_eval)\n",
    "        predictions = tf.squeeze(predictions, 0)\n",
    "        predictions = predictions / temperature\n",
    "        predicted_id = tf.multinomial(predictions, num_samples=1)[-1,0].numpy()\n",
    "        input_eval = tf.expand_dims([predicted_id], 0)\n",
    "        text_generated.append(idx2char[predicted_id])\n",
    "\n",
    "    return (start_string + ''.join(text_generated))\n",
    "\n"
   ]
  },
  {
   "cell_type": "markdown",
   "metadata": {
    "colab_type": "text",
    "id": "e7jbnCToyiQS"
   },
   "source": [
    "## Train Model"
   ]
  },
  {
   "cell_type": "markdown",
   "metadata": {},
   "source": [
    "We train the RNN using tweets from the last minute after a detected event. Distinct tweets are distinguished using a newline character."
   ]
  },
  {
   "cell_type": "code",
   "execution_count": 0,
   "metadata": {
    "colab": {},
    "colab_type": "code",
    "id": "mnMLt1pBavI4"
   },
   "outputs": [],
   "source": [
    "import numpy as np\n",
    "\n",
    "def train(tweets):\n",
    "    corpus = ''\n",
    "    for tweet in tweets:\n",
    "        corpus += tweet + '\\n'\n",
    "    chars = sorted(set(corpus))\n",
    "    char2idx = {u:i for i, u in enumerate(chars)}\n",
    "    idx2char = np.array(chars)\n",
    "\n",
    "    text_as_int = np.array([char2idx[c] for c in corpus])\n",
    "    examples_per_epoch = len(corpus)//seq_length\n",
    "    char_dataset = tf.data.Dataset.from_tensor_slices(text_as_int)\n",
    "    sequences = char_dataset.batch(seq_length+1, drop_remainder=True)\n",
    "    dataset = sequences.map(split_input_target)\n",
    "    dataset = dataset.shuffle(10000).batch(32, drop_remainder=True)\n",
    "    steps_per_epoch = examples_per_epoch//32\n",
    "\n",
    "    model = build_model(\n",
    "      num_chars = len(chars))\n",
    "\n",
    "    model.compile(\n",
    "      optimizer = tf.train.AdamOptimizer(),\n",
    "      loss = loss)\n",
    "\n",
    "    history = model.fit(dataset.repeat(), epochs=100, steps_per_epoch=steps_per_epoch, verbose=0)\n",
    "    model.save_weights('weights.hd5')\n",
    "\n",
    "    model = build_model(len(chars), batch_size=1)\n",
    "    model.load_weights('weights.hd5')\n",
    "    model.build(tf.TensorShape([1, None]))\n",
    "\n",
    "    start_string = \"\\n\" \n",
    "    temperature = 1.0\n",
    "    num_generate = 2400\n",
    "    input_eval = [char2idx[s] for s in start_string]\n",
    "    input_eval = tf.expand_dims(input_eval, 0)\n",
    "    text_generated = []\n",
    "    model.reset_states()\n",
    "    for i in range(num_generate):\n",
    "        predictions = model(input_eval)\n",
    "        predictions = tf.squeeze(predictions, 0)\n",
    "        predictions = predictions / temperature\n",
    "        predicted_id = tf.multinomial(predictions, num_samples=1)[-1,0].numpy()\n",
    "        input_eval = tf.expand_dims([predicted_id], 0)\n",
    "        text_generated.append(idx2char[predicted_id])\n",
    "\n",
    "    return (start_string + ''.join(text_generated))\n"
   ]
  },
  {
   "cell_type": "markdown",
   "metadata": {
    "colab_type": "text",
    "id": "9MCjeVzZynR3"
   },
   "source": [
    "## Tweet"
   ]
  },
  {
   "cell_type": "markdown",
   "metadata": {},
   "source": [
    "We use the RNN to generate multiple tweets. Then we assign each tweet a quality score and pick the best one to tweet. The quality score is based on the relevance of words in the training corpus.  "
   ]
  },
  {
   "cell_type": "code",
   "execution_count": 0,
   "metadata": {
    "colab": {},
    "colab_type": "code",
    "id": "SbtKUg5C72vo"
   },
   "outputs": [],
   "source": [
    "# Generate ~20 tweets\n",
    "import re\n",
    "\n",
    "def gen_tweet(tweets):\n",
    "    # train model & generate tweets\n",
    "    tweets_cleaned = []\n",
    "    for tweet in tweets:\n",
    "    words = tweet.split(' ')\n",
    "    # clean tweets by removing links\n",
    "    cleaned_t = ''\n",
    "    for w in words:\n",
    "        if 'twitter.com' in w:\n",
    "            continue\n",
    "        cleaned_t += w + ' '\n",
    "    tweets_cleaned.append(cleaned_t)\n",
    "\n",
    "    new_tweets = train(tweets_cleaned)\n",
    "\n",
    "    # Assess quality of tweets and pick the best\n",
    "\n",
    "    # counts of words in original tweets\n",
    "    sw = ['the', 'and', 'of', 'a', 'it', 'on', 'at', 'lol', 'is', 'to', 'im', 'my', 'oh', 'this', 'thats']\n",
    "    cv = CountVectorizer(stop_words=sw)\n",
    "\n",
    "    counts = cv.fit_transform(tweets).toarray()\n",
    "    num_words = counts.shape[1]\n",
    "\n",
    "    # counts of words in new tweets\n",
    "    generated_tweets = new_tweets.split('\\n')\n",
    "    counts_generated = cv.transform(generated_tweets).toarray()\n",
    "    num_tweets = len(generated_tweets)\n",
    "\n",
    "    # find the best tweet\n",
    "    best_score = 0\n",
    "    best_tweet_idx = 0\n",
    "    for i in range(num_tweets):\n",
    "        t = generated_tweets[i]\n",
    "        if len(t) < 2:\n",
    "            continue\n",
    "        if 'twitter.com' in t:\n",
    "            continue\n",
    "        total = 0\n",
    "        for j in range(num_words):\n",
    "            if counts_generated[i,j] != 0:\n",
    "                total +=  np.sum(counts[:, j])\n",
    "        real_words = False\n",
    "        words = t.split(\" \")\n",
    "        n = 0\n",
    "        for w in words:\n",
    "            if w not in sw:\n",
    "                n += 1\n",
    "            if len(w) > 0:\n",
    "                if w[0] != '#':\n",
    "                    real_words = True\n",
    "        if not real_words:\n",
    "            continue\n",
    "        quality_score = total / n * np.log(np.sum(counts_generated[i,:]))\n",
    "        # give preference to tweets with game scores\n",
    "        if re.match('.*[0-9]\\-[0-9].*', t):\n",
    "            quality_score += 100\n",
    "\n",
    "        if quality_score > best_score:\n",
    "            best_score = quality_score\n",
    "            best_tweet_idx = i\n",
    "    \n",
    "    message = generated_tweets[best_tweet_idx]\n",
    "\n",
    "    # send tweet\n",
    "    twitter.update_status(status=message)\n",
    "    print(\"Tweeted: \\n\" + message)\n",
    "    return new_tweets\n"
   ]
  },
  {
   "cell_type": "markdown",
   "metadata": {
    "colab_type": "text",
    "id": "Y6asCdKmx8zL"
   },
   "source": [
    "# Detect Events"
   ]
  },
  {
   "cell_type": "markdown",
   "metadata": {
    "colab_type": "text",
    "id": "ExysTlDu4nOB"
   },
   "source": [
    "We use moving threshold detection to detect significant game events based on the volume of tweets using the game hashtag each minute."
   ]
  },
  {
   "cell_type": "code",
   "execution_count": 18,
   "metadata": {
    "colab": {
     "base_uri": "https://localhost:8080/",
     "height": 541
    },
    "colab_type": "code",
    "id": "in8U_sn0x6eJ",
    "outputId": "74f945fb-123a-45fe-c3bb-234c949a461a"
   },
   "outputs": [
    {
     "data": {
      "image/png": "[encoded data removed]",
      "text/plain": [
       "<Figure size 432x288 with 1 Axes>"
      ]
     },
     "metadata": {
      "tags": []
     },
     "output_type": "display_data"
    },
    {
     "data": {
      "image/png": "[encoded data removed]",
      "text/plain": [
       "<Figure size 432x288 with 1 Axes>"
      ]
     },
     "metadata": {
      "tags": []
     },
     "output_type": "display_data"
    }
   ],
   "source": [
    "\n",
    "import matplotlib.pyplot as plt\n",
    "import threading\n",
    "\n",
    "def _removeNonAscii(s): return \"\".join(i for i in s if ord(i)<128)\n",
    "\n",
    "\n",
    "fig,ax = plt.subplots(1,1)\n",
    "ax.set_xlabel('Min')\n",
    "ax.set_ylabel('Tweet Volume')\n",
    "ax.plot([],[],'C0')\n",
    "ax.plot([],[],'C1')\n",
    "\n",
    "# count tweet volume during each minute of game\n",
    "gamehtg = htG[0]\n",
    "tweet_volume = []\n",
    "thresholds = []\n",
    "TS = []\n",
    "event = False\n",
    "most_tweets = 0\n",
    "ts = 0 # game minute. runs for 200 minutes\n",
    "while(ts <= 200):\n",
    "    ti = datetime.datetime.now()\n",
    "    # get recent tweets using game hashtag\n",
    "    tweetCriteria = TweetCriteria().setQuerySearch(gamehtg).setSince(today).setUntil(tommorrow).setMaxTweets(500)\n",
    "    twts = TweetManager.getTweets(tweetCriteria)\n",
    "\n",
    "    # count tweets in last minute\n",
    "    ntweets = 0 \n",
    "    for t in twts:\n",
    "        if t.date + datetime.timedelta(minutes=1) > ti:\n",
    "            ntweets += 1\n",
    "    tweet_volume.append(ntweets)  \n",
    "    if ntweets > most_tweets:\n",
    "        most_tweets = ntweets\n",
    "\n",
    "    # calculate moving threshold\n",
    "    m = np.mean(tweet_volume)\n",
    "    s = np.sqrt(np.var(tweet_volume))\n",
    "    thresh = m + 1.5*s\n",
    "    thresholds.append(thresh)\n",
    "\n",
    "    # detect events\n",
    "    if ntweets > thresh and not event:\n",
    "        print(\"Detected Event\")\n",
    "        event = True\n",
    "        \n",
    "        tweets = []\n",
    "        for t in twts:\n",
    "            if t.date + datetime.timedelta(minutes=2) > ti:\n",
    "                tweets.append(_removeNonAscii(t.text))\n",
    "        t1 = threading.Thread(target=gen_tweet, args=(tweets,))\n",
    "        t1.start()\n",
    "       \n",
    "    if ntweets < thresh:\n",
    "        event = False\n",
    "\n",
    "    # plot\n",
    "    TS.append(ts)\n",
    "    ax.lines[0].set_xdata(TS)\n",
    "    ax.lines[0].set_ydata(tweet_volume)\n",
    "    ax.lines[1].set_ydata(thresholds)\n",
    "    ax.lines[1].set_xdata(TS)\n",
    "    ax.set_xlim(0,ts+1)\n",
    "    ax.set_ylim(0,most_tweets+10)\n",
    "    display.clear_output()\n",
    "    display.display(pl.gcf())\n",
    "    fig.canvas.draw()\n",
    "\n",
    "    ts += 1\n",
    "\n",
    "    # sleep until next minute\n",
    "    sec = (ti + datetime.timedelta(minutes=1) - datetime.datetime.now()).total_seconds()\n",
    "    if sec > 0:\n",
    "        time.sleep(sec)\n"
   ]
  },
  {
   "cell_type": "code",
   "execution_count": 0,
   "metadata": {
    "colab": {},
    "colab_type": "code",
    "id": "rGSClYI8vkrh"
   },
   "outputs": [],
   "source": [
    "# Restart the notebook and run again\n",
    "from IPython.core.display import HTML\n",
    "from IPython.display import Javascript\n",
    "\n",
    "HTML(\"<script>Jupyter.notebook.kernel.restart()</script>\")\n",
    "Javascript(\"Jupyter.notebook.execute_cells([0,1,2,3,4,5,6,7,8,9,10,11,12,13,14])\")"
   ]
  }
 ],
 "metadata": {
  "accelerator": "GPU",
  "colab": {
   "collapsed_sections": [],
   "name": "capstone.ipynb",
   "provenance": []
  },
  "kernelspec": {
   "display_name": "Python 3",
   "language": "python",
   "name": "python3"
  },
  "language_info": {
   "codemirror_mode": {
    "name": "ipython",
    "version": 3
   },
   "file_extension": ".py",
   "mimetype": "text/x-python",
   "name": "python",
   "nbconvert_exporter": "python",
   "pygments_lexer": "ipython3",
   "version": "3.7.0"
  }
 },
 "nbformat": 4,
 "nbformat_minor": 1
}
